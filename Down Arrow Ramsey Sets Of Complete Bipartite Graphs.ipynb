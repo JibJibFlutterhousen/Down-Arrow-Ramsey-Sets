{
 "cells": [
  {
   "cell_type": "code",
   "execution_count": 1,
   "id": "ad87ec3d",
   "metadata": {
    "scrolled": false
   },
   "outputs": [],
   "source": [
    "# import sys\n",
    "# !{sys.executable} -m pip install --upgrade pip setuptools wheel\n",
    "# !{sys.executable} -m pip install networkx numpy matplotlib pandas pydot"
   ]
  },
  {
   "cell_type": "code",
   "execution_count": 2,
   "id": "fff13a6a",
   "metadata": {},
   "outputs": [],
   "source": [
    "import networkx as nx\n",
    "import itertools as it\n",
    "import matplotlib.pyplot as plt\n",
    "import math\n",
    "import scipy\n",
    "import pickle\n",
    "import os"
   ]
  },
  {
   "cell_type": "code",
   "execution_count": 3,
   "id": "ee6e9227",
   "metadata": {},
   "outputs": [],
   "source": [
    "RootDirectory = os.getcwd()"
   ]
  },
  {
   "cell_type": "code",
   "execution_count": 4,
   "id": "1e9b9fc0",
   "metadata": {},
   "outputs": [
    {
     "name": "stdout",
     "output_type": "stream",
     "text": [
      "/private/var/mobile/Containers/Shared/AppGroup/9E99460F-F28B-4162-8E44-3E4EDA020D9D/File Provider Storage/School/Project/Code\n"
     ]
    }
   ],
   "source": [
    "print(RootDirectory)\n",
    "os.chdir(RootDirectory)"
   ]
  },
  {
   "cell_type": "code",
   "execution_count": 5,
   "id": "17f048e7",
   "metadata": {},
   "outputs": [],
   "source": [
    "if not os.path.exists(\"Graphs\"):\n",
    "    os.mkdir(\"Graphs\")\n",
    "os.chdir(\"Graphs\")\n",
    "BaseDirectory = os.getcwd()"
   ]
  },
  {
   "cell_type": "code",
   "execution_count": 6,
   "id": "c76ddf27",
   "metadata": {},
   "outputs": [],
   "source": [
    "# print(BaseDirectory)"
   ]
  },
  {
   "cell_type": "code",
   "execution_count": 7,
   "id": "7a64810e",
   "metadata": {},
   "outputs": [],
   "source": [
    "def _draw_graph(Graph):\n",
    "    Dimension = 1\n",
    "    FigDimension = 5\n",
    "    fig,axes = plt.subplots(nrows=Dimension,ncols=Dimension,figsize=(FigDimension,FigDimension),dpi=200)\n",
    "    nx.draw_circular(Graph, ax=axes, with_labels=True, edge_color='black', node_color='black', font_color='silver')\n",
    "    axes.set_title(\"Graph 0\")\n",
    "    plt.show()\n",
    "    plt.close()"
   ]
  },
  {
   "cell_type": "code",
   "execution_count": 8,
   "id": "bccaa3ba",
   "metadata": {},
   "outputs": [],
   "source": [
    "def _draw_graph_list(GraphList, Names = None):\n",
    "    if Names == None:\n",
    "        Names = []\n",
    "        for i in range(len(GraphList)):\n",
    "            Names.append(f\"Graph {i}\")\n",
    "    if len(GraphList) <= 1:\n",
    "        _draw_graph(GraphList[0])\n",
    "        return\n",
    "    Dimension = math.ceil(math.sqrt(len(GraphList)))\n",
    "    FigDimension = min(Dimension*Dimension, 65000/Dimension)\n",
    "    fig,axes = plt.subplots(nrows=Dimension,ncols=Dimension,figsize=(FigDimension,FigDimension),dpi=200)\n",
    "    GraphCounter=0\n",
    "    for x in range(0,Dimension):\n",
    "        for y in range(0,Dimension):\n",
    "            if GraphCounter < len(GraphList):\n",
    "                axes[x,y].set_title(Names[GraphCounter])\n",
    "                nx.draw_circular(GraphList[GraphCounter], ax=axes[x,y], with_labels=True, edge_color='black', node_color='black', font_color='silver')\n",
    "                GraphCounter+=1\n",
    "            else:\n",
    "                nx.draw(nx.null_graph(), ax=axes[x,y])\n",
    "    plt.tight_layout()\n",
    "    plt.show()\n",
    "    plt.close()\n",
    "    return"
   ]
  },
  {
   "cell_type": "code",
   "execution_count": 9,
   "id": "7d5694a8",
   "metadata": {},
   "outputs": [],
   "source": [
    "def _save_graph(Graph, FileName = \"Default\", Name = None):\n",
    "    if Name == None:\n",
    "        Name = \"Graph\"\n",
    "    fig,axes = plt.subplots(nrows=1, ncols=1, figsize=(math.ceil(math.sqrt(Graph.number_of_nodes())),math.ceil(math.sqrt(Graph.number_of_nodes()))))\n",
    "    nx.draw_circular(Graph, ax=axes, with_labels=True, edge_color=\"black\", node_color=\"Black\", font_color=\"silver\")\n",
    "    plt.tight_layout()\n",
    "    plt.savefig(f\"{FileName}.svg\")\n",
    "    plt.close()"
   ]
  },
  {
   "cell_type": "code",
   "execution_count": 10,
   "id": "3ed1034a",
   "metadata": {},
   "outputs": [],
   "source": [
    "def _save_graph_list(GraphList, FileName = \"Default\", Names = None):\n",
    "    if Names == None:\n",
    "        Names = []\n",
    "        for i in range(len(GraphList)):\n",
    "            Names.append(f\"Graph {i}\")\n",
    "    if len(GraphList) <= 1:\n",
    "        _save_graph(GraphList[0], FileName, Names[0])\n",
    "        return\n",
    "    Dimension = math.ceil(math.sqrt(len(GraphList)))\n",
    "    FigDimension = min(Dimension*Dimension, 65000/Dimension)\n",
    "    fig,axes = plt.subplots(nrows=Dimension,ncols=Dimension,figsize=(FigDimension,FigDimension),dpi=200)\n",
    "    GraphCounter=0\n",
    "    for x in range(0,Dimension):\n",
    "        for y in range(0,Dimension):\n",
    "            if GraphCounter < len(GraphList):\n",
    "                axes[x,y].set_title(Names[GraphCounter])\n",
    "                nx.draw_circular(GraphList[GraphCounter], ax=axes[x,y], label=f\"Graph {GraphCounter}\", with_labels=True, edge_color='black', node_color='black', font_color='silver')\n",
    "                GraphCounter+=1\n",
    "            else:\n",
    "                nx.draw(nx.null_graph(), ax=axes[x,y])\n",
    "    plt.tight_layout()\n",
    "    plt.savefig(f\"{FileName}.svg\")\n",
    "    plt.close()\n",
    "    return"
   ]
  },
  {
   "cell_type": "code",
   "execution_count": 11,
   "id": "1bc82bb0",
   "metadata": {},
   "outputs": [],
   "source": [
    "def _save_coloring(ColoringList, Intersection = None, Union = None, HostGraph = None, FileName = \"Default\"):\n",
    "#     This function saves specifically a red blue coloring\n",
    "    \n",
    "    fig,axes = plt.subplots(nrows=1, ncols=5, figsize=(10,2.5))\n",
    "    nx.draw_circular(ColoringList[0], ax=axes[0], with_labels=True, edge_color=\"red\", node_color='black', font_color='silver')\n",
    "    axes[0].set_title(\"Red Subgraph\")\n",
    "    \n",
    "    nx.draw_circular(ColoringList[1], ax=axes[1], with_labels=True, edge_color=\"blue\", node_color='black', font_color='silver')\n",
    "    axes[1].set_title(\"Blue Subgraph\")\n",
    "    \n",
    "    if Intersection == None:\n",
    "        Intersection = _get_largest_subgraph_of_both(ColoringList[0], ColoringList[1])\n",
    "    nx.draw_circular(Intersection, ax=axes[2], with_labels=True, edge_color=\"violet\", node_color='black', font_color='silver')\n",
    "    axes[2].set_title(\"Intersection\")\n",
    "    \n",
    "    if HostGraph == None:\n",
    "        HostGraph = nx.compose(ColoringList[0], ColoringList[1])\n",
    "    nx.draw_circular(HostGraph, ax=axes[4], with_labels=True, edge_color=\"black\", node_color='black', font_color='silver')\n",
    "    axes[4].set_title(\"Host\")\n",
    "    \n",
    "    if Union == None:\n",
    "        Union = _get_union_of_both(ColoringList[0], ColoringList[1])\n",
    "    nx.draw_circular(Union, ax=axes[3], with_labels=True, edge_color=\"gold\", node_color='black', font_color='silver')\n",
    "    axes[3].set_title(\"Union\")\n",
    "    \n",
    "    plt.tight_layout()\n",
    "    plt.savefig(f\"{FileName}.svg\")\n",
    "    plt.close()\n",
    "    return"
   ]
  },
  {
   "cell_type": "code",
   "execution_count": 12,
   "id": "0f69d311",
   "metadata": {},
   "outputs": [],
   "source": [
    "def _get_largest_subgraph_of_both(Graph1, Graph2):\n",
    "#     \n",
    "    \n",
    "    if Graph1.size() > Graph2.size():\n",
    "        LargestGraph = Graph1\n",
    "        SmallestGraph = Graph2\n",
    "    else:\n",
    "        LargestGraph = Graph2\n",
    "        SmallestGraph = Graph1\n",
    "    \n",
    "    if SmallestGraph.number_of_nodes() < 1:\n",
    "        return nx.null_graph()\n",
    "    \n",
    "    LargestSubgraph = nx.path_graph(1)\n",
    "    for SubgraphSize in range(SmallestGraph.size(), 0, -1):\n",
    "        for Edges in it.combinations(SmallestGraph.edges(), SubgraphSize):\n",
    "            HostLineGraph = nx.line_graph(LargestGraph)\n",
    "            \n",
    "            if nx.algorithms.isomorphism.GraphMatcher(LargestGraph, nx.edge_subgraph(SmallestGraph, Edges).copy()).subgraph_is_monomorphic():\n",
    "                LargestSubgraph = nx.edge_subgraph(SmallestGraph, Edges).copy()\n",
    "                break\n",
    "        if LargestSubgraph.size() > 0:\n",
    "            break\n",
    "            \n",
    "    return LargestSubgraph"
   ]
  },
  {
   "cell_type": "code",
   "execution_count": 13,
   "id": "2abff4a1",
   "metadata": {},
   "outputs": [],
   "source": [
    "def _get_largest_subgraph_of_list(GraphList):\n",
    "    LargestSubgraph = GraphList[0]\n",
    "    for Graph in GraphList:\n",
    "        LargestSubgraph = _get_largest_subgraph_of_both(LargestSubgraph.copy(), Graph)\n",
    "    return LargestSubgraph"
   ]
  },
  {
   "cell_type": "code",
   "execution_count": 14,
   "id": "099e502d",
   "metadata": {},
   "outputs": [],
   "source": [
    "def _all_edge_induced_subgraphs_generator(Host):\n",
    "    \n",
    "#     Iterate through selecting 0, 1, 2, ... edges that will be selected from the edge set of the host graph\n",
    "    for NumEdgesChosen in range(Host.size()+1):\n",
    "        \n",
    "#         For each given number of edges that will be selected, select each combination of that many edges from the host graph\n",
    "        for Edges in it.combinations(Host.edges(),NumEdgesChosen):\n",
    "        \n",
    "#             Add the respective edge-induced subgraph to the list of all subgraphs\n",
    "            yield nx.edge_subgraph(Host, Edges).copy()"
   ]
  },
  {
   "cell_type": "code",
   "execution_count": 15,
   "id": "9d4d3652",
   "metadata": {},
   "outputs": [],
   "source": [
    "def _return_unique_graphs(GraphList):\n",
    "#     This function takes in a list of graphs, and returns a list of unique graphs from the input list, taking graph isomorphism as the equivalence relation\n",
    "    \n",
    "#     Initialize the list of unique graphs to an empty list\n",
    "    UniqueGraphs = []\n",
    "    \n",
    "#     Iterate over the entire list of graphs\n",
    "    for Graph in GraphList:\n",
    "        \n",
    "#         First assume that the graph is unique up to subgraph isomorphism\n",
    "        Unique = True\n",
    "    \n",
    "#         Iterate through each graph already in the list of unique subgraphs, and if there is a graph in the list of unique subgraphs that is isomorphic to the potentially unique subgraph, we note that and break out of the loop\n",
    "        for UniqueGraph in UniqueGraphs:\n",
    "            if nx.is_isomorphic(Graph, UniqueGraph):\n",
    "                Unique = False\n",
    "                break\n",
    "                \n",
    "#         If none of the already determined unique subgraphs are isomorphic to the held subgraph, then we can safely determine that it is unique up to isomorphism\n",
    "        if Unique:\n",
    "            UniqueGraphs.append(Graph)\n",
    "            \n",
    "    return UniqueGraphs"
   ]
  },
  {
   "cell_type": "code",
   "execution_count": 16,
   "id": "b4333366",
   "metadata": {},
   "outputs": [],
   "source": [
    "def _get_unique_edge_induced_subgraphs(Host):\n",
    "#     This funciton is essentially a wrapper for returning only the unique subgraphs of an input graph\n",
    "    return _return_unique_graphs(_all_edge_induced_subgraphs_generator(Host))"
   ]
  },
  {
   "cell_type": "code",
   "execution_count": 17,
   "id": "e8dfc039",
   "metadata": {},
   "outputs": [],
   "source": [
    "def _get_union_of_both(Graph1, Graph2, HostSubgraphList = None):\n",
    "    if HostSubgraphList == None:\n",
    "        Host = nx.complete_graph(max(Graph1.number_of_nodes(), Graph2.number_of_nodes()))\n",
    "        HostSubgraphList = _get_unique_edge_induced_subgraphs(Host)\n",
    "    HostSubgraphList = sorted(HostSubgraphList, key=lambda x:(nx.number_of_edges(x),nx.number_of_nodes(x)))\n",
    "    for Graph in HostSubgraphList:\n",
    "        if nx.algorithms.isomorphism.GraphMatcher(Graph,Graph1).subgraph_is_monomorphic() and nx.algorithms.isomorphism.GraphMatcher(Graph,Graph2).subgraph_is_monomorphic():\n",
    "            return Graph"
   ]
  },
  {
   "cell_type": "code",
   "execution_count": 18,
   "id": "6e2fb9ad",
   "metadata": {},
   "outputs": [],
   "source": [
    "def _get_all_colorings(Host, SubgraphList = None):\n",
    "#     This function takes in a host graph, and a list of subgraphs (or calculates all of them), and returns a list of all red blue colorings associated with coloring every subgraph in the list red and the complement (in the host) blue\n",
    "#     This function returns a list of tuples where the first index is the red subgraph, and the second index is the blue subgraph\n",
    "    \n",
    "#     Initialize the list of colorings to an empty list\n",
    "    Colorings = []\n",
    "    \n",
    "#     If the list of subgraphs isn't passed into this funciton, this funciton will calculate the list of all non-isomorphic subgraphs\n",
    "    if SubgraphList == None:\n",
    "        SubgraphList = _get_unique_edge_induced_subgraphs(Host)\n",
    "    \n",
    "#     Make the induced colorings and put them into the list of colorings\n",
    "    for RedColoring in SubgraphList:\n",
    "        BlueColoring = nx.edge_subgraph(Host, set(Host.edges())-set(RedColoring.edges())).copy()\n",
    "        Colorings.append(tuple((RedColoring, BlueColoring)))\n",
    "        \n",
    "    return Colorings"
   ]
  },
  {
   "cell_type": "code",
   "execution_count": 19,
   "id": "dd024f3e",
   "metadata": {},
   "outputs": [],
   "source": [
    "def _return_total_ordering(GraphList):\n",
    "    AdjacencyList = \"\"\n",
    "    GraphID = 0\n",
    "    for Graph in GraphList:\n",
    "        AdjacencyList += f\"{GraphID}\"\n",
    "        HostGraphID = 0\n",
    "        for HostGraph in GraphList:\n",
    "            if nx.algorithms.isomorphism.GraphMatcher(HostGraph, Graph).subgraph_is_monomorphic():\n",
    "                AdjacencyList += f\" {HostGraphID}\"\n",
    "            HostGraphID += 1\n",
    "        AdjacencyList += \"\\n\"\n",
    "        GraphID += 1\n",
    "    TotalOrdering = nx.parse_adjlist(AdjacencyList.splitlines(), create_using=nx.DiGraph(), nodetype=int)\n",
    "    TotalOrdering.remove_edges_from(nx.selfloop_edges(TotalOrdering))\n",
    "    return TotalOrdering"
   ]
  },
  {
   "cell_type": "code",
   "execution_count": 20,
   "id": "d20925d5",
   "metadata": {},
   "outputs": [],
   "source": [
    "def _get_poset(GraphList, Ordering = None):\n",
    "    if Ordering == None:\n",
    "        Ordering = _return_total_ordering(GraphList)\n",
    "    AdjacencyList = \"\"\n",
    "    GraphID = 0\n",
    "    for Graph in GraphList:\n",
    "        AdjacencyList += f\"{GraphID}\"\n",
    "        HostGraphID = 0\n",
    "        for HostGraph in GraphList:\n",
    "            if HostGraph.size() == (Graph.size()+1):\n",
    "                if Ordering.has_edge(GraphID, HostGraphID):\n",
    "                    AdjacencyList += f\" {HostGraphID}\"\n",
    "            HostGraphID += 1\n",
    "        AdjacencyList += \"\\n\"\n",
    "        GraphID += 1\n",
    "    return nx.parse_adjlist(AdjacencyList.splitlines(), create_using=nx.DiGraph())"
   ]
  },
  {
   "cell_type": "code",
   "execution_count": 21,
   "id": "be43089b",
   "metadata": {},
   "outputs": [],
   "source": [
    "def _get_graph_from_file_name(GraphName):\n",
    "    if \"K_\" in GraphName:\n",
    "        if \",\" in GraphName:\n",
    "            n,m=FileName.split(\".\",1)[0].split(\"K_\",1)[1].split(\",\")\n",
    "            n=int(n)\n",
    "            m=int(m)\n",
    "            return nx.complete_multipartite_graph(n,m)\n",
    "        else:\n",
    "            n=FileName.split(\".\",1)[0].split(\"K_\",1)[1]\n",
    "            n=int(n)\n",
    "            return nx.complete_graph(n)\n",
    "    elif \"C_\" in GraphName:\n",
    "            n=FileName.split(\".\",1)[0].split(\"C_\",1)[1]\n",
    "            n=int(n)\n",
    "            return nx.cycle_graph(n)\n",
    "    elif \"P_\" in GraphName:\n",
    "            n=FileName.split(\".\",1)[0].split(\"P_\",1)[1]\n",
    "            n=int(n)\n",
    "            return nx.path_graph(n)"
   ]
  },
  {
   "cell_type": "code",
   "execution_count": 22,
   "id": "2225188e",
   "metadata": {},
   "outputs": [
    {
     "name": "stdout",
     "output_type": "stream",
     "text": [
      "Inspecting: K_2,2\n",
      "     There are 6 distinct subgraphs up to isomorphism with at least 1 edge of the chosen graph.\n",
      "Inspecting: K_2,3\n",
      "     There are 12 distinct subgraphs up to isomorphism with at least 1 edge of the chosen graph.\n",
      "Inspecting: K_3,3\n",
      "     There are 26 distinct subgraphs up to isomorphism with at least 1 edge of the chosen graph.\n"
     ]
    }
   ],
   "source": [
    "# Build the unique subgraphs of complete bipartites\n",
    "\n",
    "MaxN = 3\n",
    "MaxM = 3\n",
    "\n",
    "for n in range(2,MaxN+1):\n",
    "    for m in range(n,MaxM+1):\n",
    "        GraphName = f\"K_{n},{m}\"\n",
    "        \n",
    "        if not os.path.exists(f\"{GraphName}\"):\n",
    "            os.mkdir(f\"{GraphName}\")\n",
    "        os.chdir(f\"{GraphName}\")\n",
    "        if os.path.exists(f\"{GraphName}.UniqueGraphs.pickle\"):\n",
    "            continue\n",
    "            \n",
    "        print(f\"Inspecting: {GraphName}\")\n",
    "        Host = nx.complete_multipartite_graph(n,m)\n",
    "        \n",
    "#         InducedGraphs = _get_all_edge_induced_subgraphs(Host)\n",
    "#         print(f\"     There are {len(InducedGraphs)} distinct subgraphs with at least 1 edge of the chosen graph.\")\n",
    "        \n",
    "        UniqueGraphs = _get_unique_edge_induced_subgraphs(Host)\n",
    "        print(f\"     There are {len(UniqueGraphs)} distinct subgraphs up to isomorphism with at least 1 edge of the chosen graph.\")\n",
    "        \n",
    "        with open(f\"{GraphName}.UniqueGraphs.pickle\", \"wb\") as OutFile:\n",
    "            pickle.dump(UniqueGraphs, OutFile)\n",
    "        os.chdir(BaseDirectory)"
   ]
  },
  {
   "cell_type": "code",
   "execution_count": 23,
   "id": "197d3b14",
   "metadata": {},
   "outputs": [
    {
     "name": "stdout",
     "output_type": "stream",
     "text": [
      "Inspecting: K_3\n",
      "     There are 4 distinct subgraphs up to isomorphism with at least 1 edge of K_3.\n",
      "Inspecting: K_4\n",
      "     There are 11 distinct subgraphs up to isomorphism with at least 1 edge of K_4.\n",
      "Inspecting: K_5\n",
      "     There are 34 distinct subgraphs up to isomorphism with at least 1 edge of K_5.\n"
     ]
    }
   ],
   "source": [
    "# Build the unique subgraphs of complete graphs\n",
    "\n",
    "MaxK = 5\n",
    "\n",
    "for k in range(3,MaxK+1):\n",
    "        GraphName = f\"K_{k}\"\n",
    "        \n",
    "        if not os.path.exists(f\"{GraphName}\"):\n",
    "            os.mkdir(f\"{GraphName}\")\n",
    "        os.chdir(f\"{GraphName}\")\n",
    "        if os.path.exists(f\"{GraphName}.UniqueGraphs.pickle\"):\n",
    "            continue\n",
    "            \n",
    "        print(f\"Inspecting: {GraphName}\")\n",
    "        Host = nx.complete_graph(k)\n",
    "        \n",
    "#         InducedGraphs = _get_all_edge_induced_subgraphs(Host)\n",
    "#         print(f\"     There are {len(InducedGraphs)} distinct subgraphs with at least 1 edge of {GraphName}.\")\n",
    "        \n",
    "        UniqueGraphs = _get_unique_edge_induced_subgraphs(Host)\n",
    "        print(f\"     There are {len(UniqueGraphs)} distinct subgraphs up to isomorphism with at least 1 edge of {GraphName}.\")\n",
    "        \n",
    "        with open(f\"{GraphName}.UniqueGraphs.pickle\", \"wb\") as OutFile:\n",
    "            pickle.dump(UniqueGraphs, OutFile)\n",
    "        os.chdir(BaseDirectory)"
   ]
  },
  {
   "cell_type": "code",
   "execution_count": 24,
   "id": "5679b7e9",
   "metadata": {},
   "outputs": [
    {
     "name": "stdout",
     "output_type": "stream",
     "text": [
      "Inspecting: C_3\n",
      "     There are 4 distinct subgraphs up to isomorphism with at least 1 edge of C_3.\n",
      "Inspecting: C_4\n",
      "     There are 6 distinct subgraphs up to isomorphism with at least 1 edge of C_4.\n",
      "Inspecting: C_5\n",
      "     There are 8 distinct subgraphs up to isomorphism with at least 1 edge of C_5.\n"
     ]
    }
   ],
   "source": [
    "# Build the unique subgraphs of cycle graphs\n",
    "\n",
    "MaxN = 5\n",
    "\n",
    "for n in range(3,MaxN+1):\n",
    "        GraphName = f\"C_{n}\"\n",
    "        \n",
    "        if not os.path.exists(f\"{GraphName}\"):\n",
    "            os.mkdir(f\"{GraphName}\")\n",
    "        os.chdir(f\"{GraphName}\")\n",
    "        if os.path.exists(f\"{GraphName}.UniqueGraphs.pickle\"):\n",
    "            continue\n",
    "            \n",
    "        print(f\"Inspecting: {GraphName}\")\n",
    "        Host = nx.cycle_graph(n)\n",
    "        \n",
    "#         InducedGraphs = _get_all_edge_induced_subgraphs(Host)\n",
    "#         print(f\"     There are {len(InducedGraphs)} distinct subgraphs with at least 1 edge of {GraphName}.\")\n",
    "        \n",
    "        UniqueGraphs = _get_unique_edge_induced_subgraphs(Host)\n",
    "        print(f\"     There are {len(UniqueGraphs)} distinct subgraphs up to isomorphism with at least 1 edge of {GraphName}.\")\n",
    "        \n",
    "        with open(f\"{GraphName}.UniqueGraphs.pickle\", \"wb\") as OutFile:\n",
    "            pickle.dump(UniqueGraphs, OutFile)\n",
    "        os.chdir(BaseDirectory)"
   ]
  },
  {
   "cell_type": "code",
   "execution_count": 25,
   "id": "497b8316",
   "metadata": {},
   "outputs": [
    {
     "name": "stdout",
     "output_type": "stream",
     "text": [
      "Inspecting: P_3\n",
      "     There are 3 distinct subgraphs up to isomorphism with at least 1 edge of P_3.\n",
      "Inspecting: P_4\n",
      "     There are 5 distinct subgraphs up to isomorphism with at least 1 edge of P_4.\n",
      "Inspecting: P_5\n",
      "     There are 7 distinct subgraphs up to isomorphism with at least 1 edge of P_5.\n"
     ]
    }
   ],
   "source": [
    "# Build the unique subgraphs of cycle graphs\n",
    "\n",
    "MaxN = 5\n",
    "\n",
    "for n in range(3,MaxN+1):\n",
    "        GraphName = f\"P_{n}\"\n",
    "        \n",
    "        if not os.path.exists(f\"{GraphName}\"):\n",
    "            os.mkdir(f\"{GraphName}\")\n",
    "        os.chdir(f\"{GraphName}\")\n",
    "        if os.path.exists(f\"{GraphName}.UniqueGraphs.pickle\"):\n",
    "            continue\n",
    "            \n",
    "        print(f\"Inspecting: {GraphName}\")\n",
    "        Host = nx.path_graph(n)\n",
    "        \n",
    "#         InducedGraphs = _get_all_edge_induced_subgraphs(Host)\n",
    "#         print(f\"     There are {len(InducedGraphs)} distinct subgraphs with at least 1 edge of {GraphName}.\")\n",
    "        \n",
    "        UniqueGraphs = _get_unique_edge_induced_subgraphs(Host)\n",
    "        print(f\"     There are {len(UniqueGraphs)} distinct subgraphs up to isomorphism with at least 1 edge of {GraphName}.\")\n",
    "        \n",
    "        with open(f\"{GraphName}.UniqueGraphs.pickle\", \"wb\") as OutFile:\n",
    "            pickle.dump(UniqueGraphs, OutFile)\n",
    "        os.chdir(BaseDirectory)"
   ]
  },
  {
   "cell_type": "code",
   "execution_count": 26,
   "id": "8aae3549",
   "metadata": {
    "scrolled": false
   },
   "outputs": [
    {
     "name": "stdout",
     "output_type": "stream",
     "text": [
      "Inspecting K_3,3\n",
      "Inspecting C_5\n",
      "Inspecting C_4\n",
      "Inspecting C_3\n",
      "Inspecting P_5\n",
      "Inspecting P_3\n",
      "Inspecting P_4\n",
      "Inspecting K_2,2\n",
      "Inspecting K_2,3\n",
      "Inspecting K_5\n",
      "Inspecting K_3\n",
      "Inspecting K_4\n"
     ]
    }
   ],
   "source": [
    "# Build the colorings, and  intersections\n",
    "for DirName in os.listdir(os.getcwd()):\n",
    "    if os.path.isdir(DirName):\n",
    "        if \"ipynb\" not in DirName:\n",
    "            os.chdir(DirName)\n",
    "            for FileName in os.listdir(os.getcwd()):\n",
    "                if \".UniqueGraphs.pickle\" in FileName:\n",
    "                    HostGraph = _get_graph_from_file_name(FileName)\n",
    "                    GraphName = FileName.split(\".\",1)[0]\n",
    "                    print(f\"Inspecting {GraphName}\")\n",
    "\n",
    "            #         Pick up the list of unique subgraphs\n",
    "                    if not os.path.exists(f\"{GraphName}.UniqueGraphs.pickle\"):\n",
    "                        continue\n",
    "                    UniqueSubgraphs = []\n",
    "                    CommonIntersectionSubgraphs = []\n",
    "                    with open(f\"{GraphName}.UniqueGraphs.pickle\", \"rb\") as InputFile:\n",
    "                        UniqueSubgraphs = pickle.load(InputFile)\n",
    "\n",
    "            #         Build a directory (if need be) and move into it for the colorings to be saved\n",
    "                    if not os.path.exists(\"Colorings\"):\n",
    "                        os.mkdir(\"Colorings\")\n",
    "                    os.chdir(\"Colorings\")\n",
    "\n",
    "            #         Determine all colorings, and save images of the colorings (and their intersection)\n",
    "                    Colorings = _get_all_colorings(HostGraph, UniqueSubgraphs)\n",
    "                    ColoringIntersections = []\n",
    "                    ColoringUnions = []\n",
    "                    ColoringID = 0\n",
    "                    for Coloring in Colorings:\n",
    "                        ColoringIntersections.append(_get_largest_subgraph_of_both(Coloring[0], Coloring[1]))\n",
    "                        ColoringUnions.append(_get_union_of_both(Coloring[0],Coloring[1],UniqueSubgraphs))\n",
    "                        _save_coloring(Coloring, ColoringIntersections[ColoringID], ColoringUnions[ColoringID], HostGraph, f\"{GraphName}.Coloring.{ColoringID}\")\n",
    "                        ColoringID += 1\n",
    "#                         def _get_union_of_both(Graph1, Graph2, HostSubgraphList = None):\n",
    "\n",
    "#                     Save the coloring graph list just in case we need it later\n",
    "                    with open(f\"{GraphName}.Colorings.pickle\", \"wb\") as OutFile:\n",
    "                        pickle.dump(Colorings, OutFile)\n",
    "\n",
    "#                     Now return to the start\n",
    "                    os.chdir(BaseDirectory)\n",
    "                    os.chdir(GraphName)\n",
    "        \n",
    "#                     Build a directory (if need be) and move into it for the coloring poset to be saved\n",
    "                    if not os.path.exists(\"Coloring Intersections\"):\n",
    "                        os.mkdir(\"Coloring Intersections\")\n",
    "                    os.chdir(\"Coloring Intersections\")\n",
    "                    \n",
    "                    ColoringIntersections = _return_unique_graphs(ColoringIntersections)\n",
    "                    _save_graph_list(ColoringIntersections, f\"{GraphName}.Coloring.Intersections\")\n",
    "                    \n",
    "                    ColoringIntersectionPoset = _get_poset(ColoringIntersections)\n",
    "                    _save_graph(ColoringIntersectionPoset, f\"{GraphName}.Coloring.Intersections.Poset\")\n",
    "                    \n",
    "#                     Save the unique coloring intersections in case we need it later\n",
    "                    with open(f\"{GraphName}.Unique.Coloring.Intersections.pickle\", \"wb\") as OutFile:\n",
    "                        pickle.dump(ColoringIntersections, OutFile)\n",
    "            \n",
    "#                     Save the poset of coloring intersections in case we need it later\n",
    "                    with open(f\"{GraphName}.Coloring.Intersection.Poset.pickle\", \"wb\") as OutFile:\n",
    "                        pickle.dump(ColoringIntersectionPoset, OutFile)\n",
    "            \n",
    "#                     Now return to the start\n",
    "                    os.chdir(BaseDirectory)\n",
    "                    os.chdir(GraphName)\n",
    "        \n",
    "#                     Build a directory (if need be) and move into it for the coloring poset to be saved\n",
    "                    if not os.path.exists(\"Coloring Unions\"):\n",
    "                        os.mkdir(\"Coloring Unions\")\n",
    "                    os.chdir(\"Coloring Unions\")\n",
    "                \n",
    "                    ColoringUnions = _return_unique_graphs(ColoringUnions)\n",
    "                    _save_graph_list(ColoringUnions, f\"{GraphName}.Coloring.Unions\")\n",
    "                    \n",
    "                    ColoringUnionPoset = _get_poset(ColoringUnions)\n",
    "                    _save_graph(ColoringUnionPoset, f\"{GraphName}.Coloring.Unions.Poset\")\n",
    "                    \n",
    "#                     Save the unique coloring intersections in case we need it later\n",
    "                    with open(f\"{GraphName}.Unique.Coloring.Union.pickle\", \"wb\") as OutFile:\n",
    "                        pickle.dump(ColoringUnions, OutFile)\n",
    "            \n",
    "#                     Save the poset of coloring intersections in case we need it later\n",
    "                    with open(f\"{GraphName}.Coloring.Union.Poset.pickle\", \"wb\") as OutFile:\n",
    "                        pickle.dump(ColoringIntersectionPoset, OutFile)\n",
    "            \n",
    "#                     Now return to the start\n",
    "                    os.chdir(BaseDirectory)\n",
    "                    os.chdir(GraphName)\n",
    "                    \n",
    "#                     Save the largest graph that is a subgraph of all of the red-blue unions\n",
    "                    DownArrowGenerator = _get_largest_subgraph_of_list(ColoringUnions)\n",
    "                    _save_graph(DownArrowGenerator, \"Down Arrow Ideal\", f\"{GraphName}.Down.Arrow\")\n",
    "\n",
    "                    os.chdir(BaseDirectory)"
   ]
  },
  {
   "cell_type": "code",
   "execution_count": 27,
   "id": "768d2083",
   "metadata": {
    "scrolled": false
   },
   "outputs": [
    {
     "name": "stdout",
     "output_type": "stream",
     "text": [
      "Done\n"
     ]
    }
   ],
   "source": [
    "print(\"Done\")"
   ]
  }
 ],
 "metadata": {
  "kernelspec": {
   "display_name": "Python 3 (ipykernel)",
   "language": "python",
   "name": "python3"
  },
  "language_info": {
   "codemirror_mode": {
    "name": "ipython",
    "version": 3
   },
   "file_extension": ".py",
   "mimetype": "text/x-python",
   "name": "python",
   "nbconvert_exporter": "python",
   "pygments_lexer": "ipython3",
   "version": "3.9.10+"
  }
 },
 "nbformat": 4,
 "nbformat_minor": 5
}
