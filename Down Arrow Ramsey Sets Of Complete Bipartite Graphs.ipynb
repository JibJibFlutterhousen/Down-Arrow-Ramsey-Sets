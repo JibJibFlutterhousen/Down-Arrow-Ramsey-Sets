{
 "cells": [
  {
   "cell_type": "code",
   "execution_count": 1,
   "id": "c6e2d89f",
   "metadata": {
    "scrolled": false
   },
   "outputs": [],
   "source": [
    "# import sys\n",
    "# !{sys.executable} -m pip install --upgrade pip setuptools wheel\n",
    "# !{sys.executable} -m pip install networkx numpy matplotlib pandas pydot"
   ]
  },
  {
   "cell_type": "code",
   "execution_count": 2,
   "id": "9746e64e",
   "metadata": {},
   "outputs": [],
   "source": [
    "import networkx as nx\n",
    "import itertools as it\n",
    "import matplotlib.pyplot as plt\n",
    "import scipy\n",
    "import pickle\n",
    "import os"
   ]
  },
  {
   "cell_type": "code",
   "execution_count": 4,
   "id": "03856bd1",
   "metadata": {},
   "outputs": [],
   "source": [
    "DPI = 300"
   ]
  },
  {
   "cell_type": "code",
   "execution_count": 5,
   "id": "a8abf0e2",
   "metadata": {},
   "outputs": [],
   "source": [
    "BaseDirectory = os.getcwd()"
   ]
  },
  {
   "cell_type": "code",
   "execution_count": 6,
   "id": "9b9aa31c",
   "metadata": {},
   "outputs": [],
   "source": [
    "# print(BaseDirectory)"
   ]
  },
  {
   "cell_type": "code",
   "execution_count": 7,
   "id": "6cbfdb53",
   "metadata": {
    "scrolled": false
   },
   "outputs": [],
   "source": [
    "# # Build the unique subgraphs of our K_n,m s\n",
    "# MaxN = 3 +1\n",
    "# MaxM = 3 +1\n",
    "\n",
    "# for n in range(1,MaxN):\n",
    "#     for m in range(n,MaxM):\n",
    "#         GraphName = f\"K_{n},{m}\"\n",
    "#         if os.path.exists(f\"{GraphName}.UniqueGraphs.pickle\"):\n",
    "#             continue\n",
    "#         ExampleGraph = nx.complete_multipartite_graph(n,m)\n",
    "#         InducedGraphs = []\n",
    "#         UniqueGraphs = []\n",
    "#         print(f\"Inspecting: {GraphName}\")\n",
    "#         for NumEdgesChosen in range(ExampleGraph.size()):\n",
    "#             for Edges in it.combinations(ExampleGraph.edges(),NumEdgesChosen+1):\n",
    "#                 InducedGraphs.append(nx.edge_subgraph(ExampleGraph, Edges).copy())\n",
    "#         print(f\"There are {len(InducedGraphs)} distinct subgraphs with at least 1 edge of the chosen graph.\")\n",
    "#         for Graph in InducedGraphs:\n",
    "#             Unique = True\n",
    "#             for UniqueGraph in UniqueGraphs:\n",
    "#                 if nx.is_isomorphic(Graph, UniqueGraph):\n",
    "#                     Unique = False\n",
    "#                     break\n",
    "#             if Unique:\n",
    "#                 UniqueGraphs.append(Graph)\n",
    "#         print(f\"There are {len(UniqueGraphs)} distinct subgraphs up to isomorphism with at least 1 edge of the chosen graph.\")\n",
    "#         with open(f\"{GraphName}.UniqueGraphs.pickle\", \"wb\") as OutFile:\n",
    "#             pickle.dump(UniqueGraphs, OutFile)"
   ]
  },
  {
   "cell_type": "code",
   "execution_count": 8,
   "id": "c6d1eaa0",
   "metadata": {},
   "outputs": [],
   "source": [
    "# with open(\"K_3,3.UniqueGraphs.pickle\",\"rb\") as InputFile:\n",
    "#     UniqueSubgraphs = pickle.load(InputFile)\n",
    "    \n",
    "# fig,axes = plt.subplots(nrows=5,ncols=5,figsize=(11,11),dpi=200)\n",
    "# GraphCounter=0\n",
    "# for y in range(0,5):\n",
    "#     for x in range(0,5):\n",
    "#         nx.draw_circular(UniqueSubgraphs[GraphCounter], ax=axes[x,y], label=f\"Graph {GraphCounter}\", with_labels=True, edge_color='black', node_color='black', font_color='white')\n",
    "#         GraphCounter+=1\n",
    "# plt.show()\n",
    "# plt.close()"
   ]
  },
  {
   "cell_type": "code",
   "execution_count": 9,
   "id": "9c055f37",
   "metadata": {},
   "outputs": [
    {
     "name": "stdout",
     "output_type": "stream",
     "text": [
      "Inspecting K_3,3\n"
     ]
    }
   ],
   "source": [
    "# # Parse unique subgraphs into red/blue colorings and draw pictures with the red, blue, and host graph\n",
    "# # Determine total ordering and reduced poset graph for the ordering given by subset containment\n",
    "for FileName in os.listdir(BaseDirectory):\n",
    "    if \".UniqueGraphs.pickle\" in FileName:\n",
    "#         Get the n and m for the K_n,m host graph\n",
    "        n,m=FileName.split(\".\",1)[0].split(\"K_\",1)[1].split(\",\")\n",
    "        n=int(n)\n",
    "        m=int(m)\n",
    "        HostGraph = nx.complete_multipartite_graph(n,m)\n",
    "        \n",
    "#         Pick up the list of unique subgraphs\n",
    "        GraphName = f\"K_{n},{m}\"\n",
    "        print(f\"Inspecting {GraphName}\")\n",
    "        if not os.path.exists(f\"{GraphName}.UniqueGraphs.pickle\"):\n",
    "            continue\n",
    "        UniqueSubgraphs = []\n",
    "        with open(f\"{GraphName}.UniqueGraphs.pickle\", \"rb\") as InputFile:\n",
    "            UniqueSubgraphs = pickle.load(InputFile)\n",
    "            \n",
    "#         Build a directory (if need be) and move into it for the given K_n,m\n",
    "        if not os.path.exists(f\"{GraphName}\"):\n",
    "            os.mkdir(f\"{GraphName}\")\n",
    "        os.chdir(BaseDirectory+'/'+GraphName)\n",
    "        \n",
    "#         Work on the red-blue colorings\n",
    "        counter = 1\n",
    "        for RedSubgraph in UniqueSubgraphs:\n",
    "#             Make BlueSubgraph\n",
    "            BlueSubgraph = nx.edge_subgraph(HostGraph, set(HostGraph.edges())-set(RedSubgraph.edges())).copy()\n",
    "            \n",
    "#             Do the setup to hide 3 graphs in one picture (red, blue, and host graph)\n",
    "            fig,axes = plt.subplots(nrows=1,ncols=3)\n",
    "            ax = axes.flatten()\n",
    "            \n",
    "#             Draw the red part\n",
    "            nx.draw_kamada_kawai(RedSubgraph, with_labels=True, ax=ax[0], edge_color='red', node_color='black', font_color='white')\n",
    "    \n",
    "#             Draw the blue part\n",
    "            nx.draw_kamada_kawai(BlueSubgraph, with_labels=True, ax=ax[1], edge_color='blue', node_color='black', font_color='white')\n",
    "    \n",
    "#             Draw the host graph\n",
    "            nx.draw_kamada_kawai(HostGraph, with_labels=True, ax=ax[2], edge_color='black', node_color='black', font_color='white')\n",
    "    \n",
    "#             Save the figure to file\n",
    "            plt.savefig(f\"{GraphName}.Red-Blue.Coloring.{counter}.png\")\n",
    "            plt.clf()\n",
    "            plt.close()\n",
    "            counter+=1\n",
    "            \n",
    "#         Determine the total ordering\n",
    "        FixedSubgraphID = 1\n",
    "        TotalOrderingAdjacencyList = \"\"\n",
    "        AllGraphSizes = \"\"\n",
    "        \n",
    "#         Fix a particular unique subgraph and see which other unique subgraphs contain it\n",
    "        for FixedSubgraph in UniqueSubgraphs:\n",
    "            AllGraphSizes += f\"Graph {FixedSubgraphID} has {FixedSubgraph.size()} edges\\n\"\n",
    "            TotalOrderingAdjacencyList += f\"{FixedSubgraphID}\"\n",
    "            HostGraphID = 1\n",
    "            for HostGraph in UniqueSubgraphs:\n",
    "                if nx.algorithms.isomorphism.GraphMatcher(nx.line_graph(HostGraph), nx.line_graph(FixedSubgraph)).subgraph_is_isomorphic():\n",
    "                    TotalOrderingAdjacencyList += f\" {HostGraphID}\"\n",
    "                HostGraphID += 1\n",
    "            TotalOrderingAdjacencyList += \"\\n\"\n",
    "            FixedSubgraphID+=1\n",
    "        with open(f\"{GraphName}.Unique.Subgraphs.Information.txt\", \"w+\") as OutFile:\n",
    "            OutFile.write(AllGraphSizes)\n",
    "        \n",
    "#         Build a graph represening the total ordering of this K_n,m\n",
    "        TotalOrderingGraph = nx.parse_adjlist(TotalOrderingAdjacencyList.splitlines(), create_using=nx.DiGraph())\n",
    "        TotalOrderingGraph.remove_edges_from(nx.selfloop_edges(TotalOrderingGraph))\n",
    "        \n",
    "#         Draw the total ordering\n",
    "#         fig,axes = plt.subplots(nrows=1,ncols=1,figsize=(5,5),dpi=DPI)\n",
    "#         ax = axes\n",
    "#         nx.draw_circular(TotalOrderingGraph, with_labels=True, ax=ax, edge_color='green', node_color='black', font_color='white')\n",
    "#         plt.savefig(f\"{GraphName}.TotalOrdering.png\")\n",
    "#         plt.clf()\n",
    "#         plt.close()\n",
    "        \n",
    "#         now restrict to just the relavent poset ordering\n",
    "        GoodEdges = []\n",
    "        for Edge in TotalOrderingGraph.edges():\n",
    "#             print(Edge)\n",
    "            if ((UniqueSubgraphs[int(Edge[1])-1].size())-(UniqueSubgraphs[int(Edge[0])-1].size()))==1:\n",
    "#                 print(f\"Case 1: Keeping the edge between graph {Edge[0]} (size {UniqueSubgraphs[int(Edge[0])-1].size()}) and graph {Edge[1]} (size {UniqueSubgraphs[int(Edge[1])-1].size()}).\")\n",
    "                GoodEdges.append((Edge[0],Edge[1]))\n",
    "            elif ((UniqueSubgraphs[int(Edge[0])-1].size())-(UniqueSubgraphs[int(Edge[1])-1].size()))==1:\n",
    "#                 print(f\"Case 2: Keeping the edge between graph {Edge[0]} (size {UniqueSubgraphs[int(Edge[0])-1].size()}) and graph {Edge[1]} (size {UniqueSubgraphs[int(Edge[1])-1].size()}).\")\n",
    "                GoodEdges.append((Edge[0],Edge[1]))\n",
    "#             else:\n",
    "#                 print(f\"Case 3: Rejecting the edge between graph {Edge[0]} (size {UniqueSubgraphs[int(Edge[0])-1].size()}) and graph {Edge[1]} (size {UniqueSubgraphs[int(Edge[1])-1].size()}).\")\n",
    "        ReducedPosetGraph = TotalOrderingGraph.edge_subgraph(GoodEdges).copy()\n",
    "        \n",
    "#         Draw the poset heirarchy\n",
    "        fig,axes = plt.subplots(nrows=1,ncols=1,figsize=(11,11),dpi=DPI)\n",
    "        ax = axes\n",
    "#         pos = hierarchy_pos(ReducedPosetGraph)\n",
    "        positions = nx.spring_layout(ReducedPosetGraph, k=1)\n",
    "        for Node in positions:\n",
    "            positions[Node][1] = UniqueSubgraphs[int(Node)-1].size()\n",
    "        nx.draw(ReducedPosetGraph, pos=positions, ax=axes, node_color=\"black\", edge_color=\"black\", font_color=\"white\", with_labels=True)\n",
    "        plt.savefig(f\"{GraphName}.Poset.png\")\n",
    "        plt.clf()\n",
    "        plt.close()\n",
    "        with open(f\"{GraphName}.ReducedPosetGraph.pickle\", \"wb\") as OutFile:\n",
    "            pickle.dump(ReducedPosetGraph, OutFile)\n",
    "        \n",
    "#         Done with this K_n,m, return to the directory above\n",
    "        os.chdir(BaseDirectory)"
   ]
  },
  {
   "cell_type": "code",
   "execution_count": 10,
   "id": "b170c511",
   "metadata": {},
   "outputs": [
    {
     "name": "stdout",
     "output_type": "stream",
     "text": [
      "[(0, 3), (0, 4), (0, 5), (1, 3), (1, 4), (1, 5), (2, 3), (2, 4), (2, 5)]\n",
      "[(0, 3), (0, 4), (0, 5), (1, 3), (1, 4), (1, 5), (2, 3), (2, 4)]\n",
      "True\n"
     ]
    }
   ],
   "source": [
    "HostGraph = nx.complete_multipartite_graph(3,3)\n",
    "print(HostGraph.edges())\n",
    "Subgraph = nx.edge_subgraph(HostGraph, [(0, 3), (0, 4), (0, 5), (1, 3), (1, 4), (1, 5), (2, 3), (2, 4)]).copy()\n",
    "print(Subgraph.edges())\n",
    "GM = nx.algorithms.isomorphism.GraphMatcher(nx.line_graph(HostGraph),nx.line_graph(Subgraph))\n",
    "print(GM.subgraph_is_isomorphic())"
   ]
  },
  {
   "cell_type": "code",
   "execution_count": null,
   "id": "3eb58ab2",
   "metadata": {
    "scrolled": false
   },
   "outputs": [],
   "source": []
  }
 ],
 "metadata": {
  "kernelspec": {
   "display_name": "Python 3 (ipykernel)",
   "language": "python",
   "name": "python3"
  },
  "language_info": {
   "codemirror_mode": {
    "name": "ipython",
    "version": 3
   },
   "file_extension": ".py",
   "mimetype": "text/x-python",
   "name": "python",
   "nbconvert_exporter": "python",
   "pygments_lexer": "ipython3",
   "version": "3.9.10+"
  }
 },
 "nbformat": 4,
 "nbformat_minor": 5
}
